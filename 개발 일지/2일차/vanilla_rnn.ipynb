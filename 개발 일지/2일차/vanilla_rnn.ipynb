{
 "cells": [
  {
   "cell_type": "code",
   "execution_count": 6,
   "metadata": {
    "colab": {
     "base_uri": "https://localhost:8080/"
    },
    "id": "yhe5m26yJlxK",
    "outputId": "52a7049c-d682-4858-83ec-3ad29cd27636"
   },
   "outputs": [
    {
     "name": "stdout",
     "output_type": "stream",
     "text": [
      "vocab :  ['hate', 'love', 'milk', 'dog', 'like', 'coffee', 'i']\n"
     ]
    }
   ],
   "source": [
    "import numpy as np\n",
    "import torch\n",
    "import torch.nn as nn\n",
    "import torch.optim as optim\n",
    "\n",
    "# 입력 데이터\n",
    "sentences = [\"i like dog\", \"i love coffee\", \"i hate milk\"]\n",
    "\n",
    "# vocab 생성\n",
    "vocab = list(set(' '.join(sentences).split()))\n",
    "print('vocab : ', vocab)"
   ]
  },
  {
   "cell_type": "code",
   "execution_count": 7,
   "metadata": {
    "colab": {
     "base_uri": "https://localhost:8080/"
    },
    "id": "lZwnEDUGKpaL",
    "outputId": "e6f91620-f69c-4a4a-ab89-dbdd3c7bad25"
   },
   "outputs": [
    {
     "name": "stdout",
     "output_type": "stream",
     "text": [
      "word2index :  {'hate': 0, 'love': 1, 'milk': 2, 'dog': 3, 'like': 4, 'coffee': 5, 'i': 6}\n"
     ]
    }
   ],
   "source": [
    "# 각 단어에 고유 인덱스 부여\n",
    "word2index = {tkn: i for i, tkn in enumerate(vocab)}\n",
    "print('word2index : ', word2index)"
   ]
  },
  {
   "cell_type": "code",
   "execution_count": 8,
   "metadata": {
    "colab": {
     "base_uri": "https://localhost:8080/"
    },
    "id": "uTWxTGz5KwiX",
    "outputId": "f111f334-bae6-4c85-f2dc-8618ad91e399"
   },
   "outputs": [
    {
     "name": "stdout",
     "output_type": "stream",
     "text": [
      "index2word :  {0: 'hate', 1: 'love', 2: 'milk', 3: 'dog', 4: 'like', 5: 'coffee', 6: 'i'}\n"
     ]
    }
   ],
   "source": [
    "# 수치화된 데이터를 단어로 바꾸기 위한 사전\n",
    "# word2index의 반대 개념\n",
    "index2word = {v: k for k, v in word2index.items()}\n",
    "print('index2word : ', index2word)"
   ]
  },
  {
   "cell_type": "code",
   "execution_count": 9,
   "metadata": {
    "id": "01QMH12SK2x1"
   },
   "outputs": [],
   "source": [
    "def make_batch(sentences, word2index, input_size):\n",
    "    \"\"\"\n",
    "    배치를 만드는 함수 이번 예제에서는 \n",
    "\n",
    "    파라미터 \n",
    "    ---\n",
    "    sentences : list\n",
    "        각 단어가 들어있는 list\n",
    "    word2index : dict\n",
    "        단어 별 고유 인덱스가 매핑 되어 있는 dict\n",
    "    input_size : int\n",
    "        vocab의 사이즈 \n",
    "\n",
    "    returns \n",
    "    ---\n",
    "    input_batch  : list\n",
    "        입력 데이터, 문장중 가장 마지막 단어를 제외한 모든 단어\n",
    "    target_batch : list\n",
    "        target 데이터, 문장의 가장 마지막 단어\n",
    "    \"\"\"\n",
    "    input_batch = []\n",
    "    target_batch = []\n",
    "\n",
    "    for sen in sentences:\n",
    "        # 단어를 공백을 기준으로 split\n",
    "        word = sen.split()\n",
    "        # 문장 중 가장 마지막 단어를 제외한 모든 단어를 input 으로\n",
    "        # word2index를 이용하여 input의 각 단어를 고유 인덱스 매핑\n",
    "        input = [word2index[n] for n in word[:-1]]\n",
    "\n",
    "        # 문장 중 가장 마지막 단어를 target으로\n",
    "        # word2index를 이용하여 target 단어를 고유 인덱스 매핑\n",
    "        target = word2index[word[-1]]\n",
    "\n",
    "        input_batch.append(np.eye(input_size)[input])\n",
    "        target_batch.append(target)\n",
    "\n",
    "    return input_batch, target_batch"
   ]
  },
  {
   "cell_type": "code",
   "execution_count": 40,
   "metadata": {
    "id": "-mFOM4fRLLJU"
   },
   "outputs": [],
   "source": [
    "class Net(nn.Module):\n",
    "    \"\"\"\n",
    "    간단한 rnn 함수\n",
    "    2개의 단어를 input으로 받아서 다음에 올 단어를 예측하는 모델\n",
    "    \"\"\"\n",
    "\n",
    "    def __init__(self, input_size, hidden_size, output_size):\n",
    "        super(Net, self).__init__()\n",
    "\n",
    "        self.rnn = nn.RNN(input_size=input_size, hidden_size=hidden_size,\n",
    "                          batch_first=True)\n",
    "\n",
    "        # lstm 사용\n",
    "        #self.lstm = nn.LSTM(input_size = input_size, hidden_size = hidden_size,batch_first = True)\n",
    "        self.linear = nn.Linear(hidden_size, output_size)  # 출력은 단어 집합의 크기로 지정\n",
    "\n",
    "    def forward(self, x):\n",
    "        # rnn모델의 출력 값은 입력 데이터에 대한 출력과\n",
    "        # 다음 rnn셀로 보낼 hidden state\n",
    "\n",
    "        output, _ = self.rnn(x)\n",
    "        # lstm사용\n",
    "        #output, (hidden,cell) = self.lstm(x)\n",
    "\n",
    "        # input 단어가 2개이기 때문에 2개 단어에 대한 출력 벡터가 생성되는데\n",
    "        # 2번째 단어(마지막으로 입력된 단어)의 출력 벡터만 사용\n",
    "        output = output[:, -1, :]\n",
    "\n",
    "        output = self.linear(output)\n",
    "\n",
    "        return output"
   ]
  },
  {
   "cell_type": "code",
   "execution_count": 41,
   "metadata": {
    "id": "kSeV5nxRLMUc"
   },
   "outputs": [],
   "source": [
    "input_size = 7\n",
    "hidden_size = 8\n",
    "output_size = 7\n",
    "\n",
    "model = Net(input_size, hidden_size, output_size)"
   ]
  },
  {
   "cell_type": "code",
   "execution_count": 42,
   "metadata": {
    "id": "Q3UXG3V7M8yM"
   },
   "outputs": [],
   "source": [
    "input_batch, target_batch = make_batch(sentences, word2index, input_size)\n",
    "input_batch = torch.FloatTensor(input_batch)\n",
    "target_batch = torch.LongTensor(target_batch)"
   ]
  },
  {
   "cell_type": "code",
   "execution_count": 43,
   "metadata": {
    "id": "vD0MxbDOM-Bq"
   },
   "outputs": [],
   "source": [
    "criterion = nn.CrossEntropyLoss()\n",
    "optimizer = optim.Adam(model.parameters(), lr=0.001)"
   ]
  },
  {
   "cell_type": "code",
   "execution_count": 44,
   "metadata": {
    "colab": {
     "base_uri": "https://localhost:8080/"
    },
    "id": "00p9Sod3M_D7",
    "outputId": "d1072d2d-b57b-43de-a30b-15aaa856d3bd"
   },
   "outputs": [
    {
     "name": "stdout",
     "output_type": "stream",
     "text": [
      "Epoch: 1000 cost = 0.060574\n",
      "Epoch: 2000 cost = 0.016163\n",
      "Epoch: 3000 cost = 0.006953\n",
      "Epoch: 4000 cost = 0.003536\n",
      "Epoch: 5000 cost = 0.001946\n"
     ]
    }
   ],
   "source": [
    "# Training\n",
    "for epoch in range(5000):\n",
    "    optimizer.zero_grad()\n",
    "\n",
    "    # input_batch : [batch_size, n_step, n_class]\n",
    "    output = model(input_batch)\n",
    "\n",
    "    # output : [batch_size, n_class], target_batch : [batch_size] (LongTensor, not one-hot)\n",
    "\n",
    "    loss = criterion(output, target_batch)\n",
    "\n",
    "    if (epoch + 1) % 1000 == 0:\n",
    "        print('Epoch:', '%04d' % (epoch + 1), 'cost =', '{:.6f}'.format(loss))\n",
    "\n",
    "    loss.backward()\n",
    "    optimizer.step()"
   ]
  }
 ],
 "metadata": {
  "colab": {
   "collapsed_sections": [],
   "name": "vanilla-rnn.ipynb",
   "provenance": []
  },
  "kernelspec": {
   "display_name": "Python 3",
   "language": "python",
   "name": "python3"
  },
  "language_info": {
   "codemirror_mode": {
    "name": "ipython",
    "version": 3
   },
   "file_extension": ".py",
   "mimetype": "text/x-python",
   "name": "python",
   "nbconvert_exporter": "python",
   "pygments_lexer": "ipython3",
   "version": "3.8.5"
  }
 },
 "nbformat": 4,
 "nbformat_minor": 1
}
