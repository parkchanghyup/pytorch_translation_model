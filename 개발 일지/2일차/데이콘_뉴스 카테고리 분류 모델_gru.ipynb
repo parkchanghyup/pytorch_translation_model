{
 "cells": [
  {
   "cell_type": "markdown",
   "id": "fee37521-5e6d-42b3-8ab7-be3c631a0edb",
   "metadata": {},
   "source": [
    "# 뉴스 카테고리 분류 모델\n",
    "- [대회 데이터 다운 링크](https://dacon.io/competitions/official/235747/data)\n",
    "- `private score : 0.67608` , `public score : 0.70427`\n",
    "- 사용 모델 : GRU\n",
    "\n",
    "누구나 이해하기 쉽게 가장 간단하게 설계한 모델입니다.   \n",
    "참고사이트 : [위키 독스](https://wikidocs.net/65348)\n"
   ]
  },
  {
   "cell_type": "code",
   "execution_count": 5,
   "id": "ead900a7",
   "metadata": {},
   "outputs": [],
   "source": [
    "import pandas as pd\n",
    "\n",
    "train = pd.read_csv('data/train_data.csv')\n",
    "test = pd.read_csv('data/test_data.csv')"
   ]
  },
  {
   "cell_type": "code",
   "execution_count": 6,
   "id": "efd72cf6",
   "metadata": {},
   "outputs": [
    {
     "data": {
      "text/html": [
       "<div>\n",
       "<style scoped>\n",
       "    .dataframe tbody tr th:only-of-type {\n",
       "        vertical-align: middle;\n",
       "    }\n",
       "\n",
       "    .dataframe tbody tr th {\n",
       "        vertical-align: top;\n",
       "    }\n",
       "\n",
       "    .dataframe thead th {\n",
       "        text-align: right;\n",
       "    }\n",
       "</style>\n",
       "<table border=\"1\" class=\"dataframe\">\n",
       "  <thead>\n",
       "    <tr style=\"text-align: right;\">\n",
       "      <th></th>\n",
       "      <th>index</th>\n",
       "      <th>title</th>\n",
       "      <th>topic_idx</th>\n",
       "    </tr>\n",
       "  </thead>\n",
       "  <tbody>\n",
       "    <tr>\n",
       "      <th>0</th>\n",
       "      <td>0</td>\n",
       "      <td>인천→핀란드 항공기 결항…휴가철 여행객 분통</td>\n",
       "      <td>4</td>\n",
       "    </tr>\n",
       "    <tr>\n",
       "      <th>1</th>\n",
       "      <td>1</td>\n",
       "      <td>실리콘밸리 넘어서겠다…구글 15조원 들여 美전역 거점화</td>\n",
       "      <td>4</td>\n",
       "    </tr>\n",
       "    <tr>\n",
       "      <th>2</th>\n",
       "      <td>2</td>\n",
       "      <td>이란 외무 긴장완화 해결책은 미국이 경제전쟁 멈추는 것</td>\n",
       "      <td>4</td>\n",
       "    </tr>\n",
       "    <tr>\n",
       "      <th>3</th>\n",
       "      <td>3</td>\n",
       "      <td>NYT 클린턴 측근韓기업 특수관계 조명…공과 사 맞물려종합</td>\n",
       "      <td>4</td>\n",
       "    </tr>\n",
       "    <tr>\n",
       "      <th>4</th>\n",
       "      <td>4</td>\n",
       "      <td>시진핑 트럼프에 중미 무역협상 조속 타결 희망</td>\n",
       "      <td>4</td>\n",
       "    </tr>\n",
       "  </tbody>\n",
       "</table>\n",
       "</div>"
      ],
      "text/plain": [
       "   index                             title  topic_idx\n",
       "0      0          인천→핀란드 항공기 결항…휴가철 여행객 분통          4\n",
       "1      1    실리콘밸리 넘어서겠다…구글 15조원 들여 美전역 거점화          4\n",
       "2      2    이란 외무 긴장완화 해결책은 미국이 경제전쟁 멈추는 것          4\n",
       "3      3  NYT 클린턴 측근韓기업 특수관계 조명…공과 사 맞물려종합          4\n",
       "4      4         시진핑 트럼프에 중미 무역협상 조속 타결 희망          4"
      ]
     },
     "execution_count": 6,
     "metadata": {},
     "output_type": "execute_result"
    }
   ],
   "source": [
    "train.head()"
   ]
  },
  {
   "cell_type": "code",
   "execution_count": 7,
   "id": "2402ab1c",
   "metadata": {},
   "outputs": [],
   "source": [
    "from torchtext.legacy import data \n",
    "from konlpy.tag import Okt\n",
    "\n",
    "tokenizer = Okt()"
   ]
  },
  {
   "cell_type": "code",
   "execution_count": 8,
   "id": "f4566548",
   "metadata": {},
   "outputs": [],
   "source": [
    "def get_length(title):\n",
    "    return len(title)\n",
    "\n",
    "train['title_len'] = train['title'].apply(get_length)"
   ]
  },
  {
   "cell_type": "code",
   "execution_count": 10,
   "id": "a76e4777",
   "metadata": {},
   "outputs": [
    {
     "data": {
      "text/plain": [
       "<AxesSubplot:xlabel='title_len', ylabel='Count'>"
      ]
     },
     "execution_count": 10,
     "metadata": {},
     "output_type": "execute_result"
    },
    {
     "data": {
      "image/png": "[encoded data removed]",
      "text/plain": [
       "<Figure size 432x288 with 1 Axes>"
      ]
     },
     "metadata": {
      "needs_background": "light"
     },
     "output_type": "display_data"
    }
   ],
   "source": [
    "import seaborn as sns\n",
    "import numpy as np \n",
    "\n",
    "\n",
    "\n",
    "\n",
    "np.median(train['title_len'].to_list())\n",
    "np.max(train['title_len'].to_list())\n",
    "\n",
    "sns.histplot(train['title_len'],bins = 10)\n"
   ]
  },
  {
   "cell_type": "code",
   "execution_count": 11,
   "id": "2131752c",
   "metadata": {},
   "outputs": [],
   "source": [
    "# 필드 정의\n",
    "\n",
    "# 실제 사용은 하지 않을 예정\n",
    "INDEX = data.Field(sequential = False,\n",
    "                use_vocab = False)\n",
    "\n",
    "TITLE = data.Field(sequential=True,\n",
    "                  use_vocab=True,\n",
    "                  tokenize=tokenizer.morphs, # 토크나이저로는 Okt 사용.\n",
    "                  lower=True,\n",
    "                  batch_first=True,\n",
    "                  fix_length=44)\n",
    "\n",
    "LABEL = data.Field(sequential=False,\n",
    "                   use_vocab=False,\n",
    "                   is_target=True)"
   ]
  },
  {
   "cell_type": "markdown",
   "id": "4c8fc9ac",
   "metadata": {},
   "source": [
    "## 데이터셋 만들기"
   ]
  },
  {
   "cell_type": "code",
   "execution_count": 12,
   "id": "f1f73b2d",
   "metadata": {},
   "outputs": [],
   "source": [
    "from sklearn.model_selection import StratifiedKFold\n",
    "\n",
    "skf = StratifiedKFold(n_splits = 5, shuffle = True, random_state = 42)\n",
    "\n",
    "for i,(trn_idx,val_idx) in enumerate(skf.split(train['title'],train['topic_idx'])):\n",
    "    trn = train.iloc[trn_idx]\n",
    "    val = train.iloc[val_idx]"
   ]
  },
  {
   "cell_type": "code",
   "execution_count": 13,
   "id": "c593b789",
   "metadata": {},
   "outputs": [],
   "source": [
    "trn.to_csv('data/trn.csv',index = False)\n",
    "val.to_csv('data/val.csv',index = False)"
   ]
  },
  {
   "cell_type": "code",
   "execution_count": 14,
   "id": "c3bd037c",
   "metadata": {},
   "outputs": [],
   "source": [
    "test['topic_idx'] = 0\n",
    "test.to_csv('data/test.csv',index = False)"
   ]
  },
  {
   "cell_type": "code",
   "execution_count": 15,
   "id": "d9458965",
   "metadata": {},
   "outputs": [],
   "source": [
    "from torchtext.legacy.data import TabularDataset\n",
    "\n",
    "train_data, validation_data,test_data =TabularDataset.splits(\n",
    "     path='data/', train='trn.csv',validation= 'val.csv', test='test.csv', format='csv',\n",
    "        fields=[('index', INDEX), ('title', TITLE), ('topix_idx', LABEL)], skip_header=True)\n"
   ]
  },
  {
   "cell_type": "code",
   "execution_count": 16,
   "id": "5b2d327f",
   "metadata": {},
   "outputs": [
    {
     "name": "stdout",
     "output_type": "stream",
     "text": [
      "훈련 샘플의 개수 : 36524\n",
      "검증 샘플의 개수 : 9130\n",
      "테스트 샘플의 개수 : 9131\n"
     ]
    }
   ],
   "source": [
    "print('훈련 샘플의 개수 : {}'.format(len(train_data)))\n",
    "print('검증 샘플의 개수 : {}'.format(len(validation_data)))\n",
    "print('테스트 샘플의 개수 : {}'.format(len(test_data)))"
   ]
  },
  {
   "cell_type": "code",
   "execution_count": 17,
   "id": "8bfd5916",
   "metadata": {},
   "outputs": [],
   "source": [
    "TITLE.build_vocab(train_data, min_freq = 2, max_size = 20000)"
   ]
  },
  {
   "cell_type": "code",
   "execution_count": 18,
   "id": "58873ea7",
   "metadata": {},
   "outputs": [
    {
     "name": "stdout",
     "output_type": "stream",
     "text": [
      "단어 집합의 크기 : 18587\n"
     ]
    }
   ],
   "source": [
    "print('단어 집합의 크기 : {}'.format(len(TITLE.vocab)))"
   ]
  },
  {
   "cell_type": "markdown",
   "id": "7a5c4577",
   "metadata": {},
   "source": [
    "## 데이터 로더 만들기"
   ]
  },
  {
   "cell_type": "code",
   "execution_count": 19,
   "id": "bdfec370",
   "metadata": {},
   "outputs": [],
   "source": [
    "from torchtext.legacy.data import Iterator"
   ]
  },
  {
   "cell_type": "code",
   "execution_count": 42,
   "id": "9e8ac3ec",
   "metadata": {},
   "outputs": [],
   "source": [
    "# 하이퍼파라미터\n",
    "batch_size = 128\n",
    "lr = 0.001\n",
    "EPOCHS = 20"
   ]
  },
  {
   "cell_type": "code",
   "execution_count": 43,
   "id": "f36facaf",
   "metadata": {},
   "outputs": [],
   "source": [
    "train_loader = Iterator(dataset = train_data, batch_size = batch_size)\n",
    "val_loader = Iterator(dataset = validation_data, batch_size = batch_size)\n",
    "test_loader = Iterator(dataset = test_data, batch_size = batch_size,shuffle = False)"
   ]
  },
  {
   "cell_type": "code",
   "execution_count": 44,
   "id": "d6f1325a",
   "metadata": {},
   "outputs": [
    {
     "name": "stdout",
     "output_type": "stream",
     "text": [
      "훈련 데이터의 미니 배치 수 : 286\n",
      "검증 데이터의 미니 배치 수 : 72\n",
      "테스트 데이터의 미니 배치 수 : 72\n"
     ]
    }
   ],
   "source": [
    "print('훈련 데이터의 미니 배치 수 : {}'.format(len(train_loader)))\n",
    "print('검증 데이터의 미니 배치 수 : {}'.format(len(val_loader)))\n",
    "print('테스트 데이터의 미니 배치 수 : {}'.format(len(test_loader)))"
   ]
  },
  {
   "cell_type": "markdown",
   "id": "f7966c64",
   "metadata": {},
   "source": [
    "## GRU 모델 구현"
   ]
  },
  {
   "cell_type": "code",
   "execution_count": 45,
   "id": "604716cd",
   "metadata": {},
   "outputs": [],
   "source": [
    "import os\n",
    "import torch\n",
    "import torch.nn as nn\n",
    "import torch.nn.functional as F\n",
    "from torchtext import data, datasets\n",
    "import random"
   ]
  },
  {
   "cell_type": "code",
   "execution_count": 46,
   "id": "7a77031e",
   "metadata": {},
   "outputs": [],
   "source": [
    "class GRU(nn.Module):\n",
    "    def __init__(self, n_layers, hidden_dim, n_vocab, embed_dim, n_classes, dropout_p=0.2):\n",
    "        super(GRU, self).__init__()\n",
    "        self.n_layers = n_layers\n",
    "        self.hidden_dim = hidden_dim\n",
    "\n",
    "        self.embed = nn.Embedding(n_vocab, embed_dim)\n",
    "        self.dropout = nn.Dropout(dropout_p)\n",
    "        self.gru = nn.GRU(embed_dim, self.hidden_dim,\n",
    "                          num_layers=self.n_layers,\n",
    "                          batch_first=True)\n",
    "        self.out = nn.Linear(self.hidden_dim, n_classes)\n",
    "\n",
    "    def forward(self, x):\n",
    "        x = self.embed(x)\n",
    "        h_0 = self._init_state(batch_size=x.size(0)) # 첫번째 히든 스테이트를 0벡터로 초기화\n",
    "        x, _ = self.gru(x, h_0)  # GRU의 리턴값은 (배치 크기, 시퀀스 길이, 은닉 상태의 크기)\n",
    "        h_t = x[:,-1,:] # 모든 문장을 거쳐서 나온 가장 마지막에 나온 단어(평점)의 값\n",
    "        self.dropout(h_t)\n",
    "        logit = self.out(h_t)  # (배치 크기, 은닉 상태의 크기) -> (배치 크기, 출력층의 크기)\n",
    "        return logit\n",
    "\n",
    "    def _init_state(self, batch_size=1):\n",
    "        weight = next(self.parameters()).data\n",
    "        return weight.new(self.n_layers, batch_size, self.hidden_dim).zero_()"
   ]
  },
  {
   "cell_type": "code",
   "execution_count": 47,
   "id": "b7c0b0b4",
   "metadata": {},
   "outputs": [],
   "source": [
    "def train(model, optimizer, train_iter):\n",
    "    \"\"\"모델 학습\"\"\"\n",
    "    model.train()\n",
    "    for i, batch in enumerate(train_iter):\n",
    "        x, y = batch.title.to(DEVICE), batch.topix_idx.to(DEVICE)\n",
    "        \n",
    "        \n",
    "        optimizer.zero_grad()\n",
    "\n",
    "        logit = model(x)\n",
    "        y= torch.tensor(y,dtype = torch.long,device =DEVICE)\n",
    "\n",
    "        loss = F.cross_entropy(logit,y)\n",
    "        loss.backward()\n",
    "        optimizer.step()"
   ]
  },
  {
   "cell_type": "code",
   "execution_count": 48,
   "id": "a375ef69",
   "metadata": {},
   "outputs": [],
   "source": [
    "def evaluate(model, val_iter):\n",
    "    \"\"\"검증 데이터셋 평가\"\"\"\n",
    "    model.eval()\n",
    "    batch_cor, total_loss = 0, 0\n",
    "    \n",
    "    for batch in val_iter:\n",
    "        x, y = batch.title.to(DEVICE), batch.topix_idx.to(DEVICE)\n",
    "        y= torch.tensor(y,dtype = torch.long,device =DEVICE)\n",
    "        logit = model(x)\n",
    "        \n",
    "        loss = F.cross_entropy(logit, y)\n",
    "        \n",
    "        total_loss += loss.item()\n",
    "        batch_cor += (logit.max(1)[1] == y.data).sum() \n",
    "        \n",
    "    size = len(val_iter.dataset)\n",
    "    avg_loss = total_loss / size \n",
    "    avg_accuracy = 100.0 * batch_cor / size\n",
    "\n",
    "    \n",
    "    return avg_loss, avg_accuracy"
   ]
  },
  {
   "cell_type": "code",
   "execution_count": 49,
   "id": "4267445c-4011-4d63-ae36-306c8061e530",
   "metadata": {},
   "outputs": [
    {
     "name": "stdout",
     "output_type": "stream",
     "text": [
      "단어 집합의 크기 : 18587\n",
      "클래스의 개수 : 7\n"
     ]
    }
   ],
   "source": [
    "vocab_size = len(TITLE.vocab) \n",
    "n_classes = 7\n",
    "print('단어 집합의 크기 : {}'.format(vocab_size))\n",
    "print('클래스의 개수 : {}'.format(n_classes))"
   ]
  },
  {
   "cell_type": "code",
   "execution_count": 50,
   "id": "bf575a2d-16a4-46a4-99cd-60611815aa50",
   "metadata": {},
   "outputs": [],
   "source": [
    "DEVICE = torch.device(\"cuda\" if torch.cuda.is_available() else \"cpu\")\n",
    "model = GRU(1, 8, vocab_size , 128, n_classes, 0.2).to(DEVICE)\n",
    "optimizer = torch.optim.AdamW(model.parameters(), lr=lr)"
   ]
  },
  {
   "cell_type": "code",
   "execution_count": 51,
   "id": "188f59b9",
   "metadata": {
    "scrolled": true
   },
   "outputs": [
    {
     "name": "stderr",
     "output_type": "stream",
     "text": [
      "/home/ubuntu/.local/lib/python3.6/site-packages/ipykernel_launcher.py:10: UserWarning: To copy construct from a tensor, it is recommended to use sourceTensor.clone().detach() or sourceTensor.clone().detach().requires_grad_(True), rather than torch.tensor(sourceTensor).\n",
      "  # Remove the CWD from sys.path while we load stuff.\n",
      "/home/ubuntu/.local/lib/python3.6/site-packages/ipykernel_launcher.py:8: UserWarning: To copy construct from a tensor, it is recommended to use sourceTensor.clone().detach() or sourceTensor.clone().detach().requires_grad_(True), rather than torch.tensor(sourceTensor).\n",
      "  \n"
     ]
    },
    {
     "name": "stdout",
     "output_type": "stream",
     "text": [
      "[Epoch: 1] val loss : 0.01439 | val accuracy : 28.57\n",
      "[Epoch: 2] val loss : 0.01261 | val accuracy : 40.07\n",
      "[Epoch: 3] val loss : 0.01050 | val accuracy : 51.85\n",
      "[Epoch: 4] val loss : 0.00904 | val accuracy : 58.74\n",
      "[Epoch: 5] val loss : 0.00838 | val accuracy : 62.69\n",
      "[Epoch: 6] val loss : 0.00786 | val accuracy : 67.10\n",
      "[Epoch: 7] val loss : 0.00762 | val accuracy : 68.60\n",
      "[Epoch: 8] val loss : 0.00761 | val accuracy : 70.08\n",
      "[Epoch: 9] val loss : 0.00762 | val accuracy : 70.49\n",
      "[Epoch: 10] val loss : 0.00763 | val accuracy : 71.23\n",
      "[Epoch: 11] val loss : 0.00772 | val accuracy : 71.50\n",
      "[Epoch: 12] val loss : 0.00789 | val accuracy : 71.46\n",
      "[Epoch: 13] val loss : 0.00810 | val accuracy : 72.25\n",
      "[Epoch: 14] val loss : 0.00830 | val accuracy : 72.04\n",
      "[Epoch: 15] val loss : 0.00847 | val accuracy : 71.79\n",
      "[Epoch: 16] val loss : 0.00867 | val accuracy : 72.38\n",
      "[Epoch: 17] val loss : 0.00869 | val accuracy : 72.29\n",
      "[Epoch: 18] val loss : 0.00910 | val accuracy : 72.07\n",
      "[Epoch: 19] val loss : 0.00920 | val accuracy : 71.92\n",
      "[Epoch: 20] val loss : 0.00946 | val accuracy : 72.11\n"
     ]
    }
   ],
   "source": [
    "best_val_loss = None\n",
    "best_model = []\n",
    "\n",
    "for e in range(1, EPOCHS + 1 ):\n",
    "    train(model, optimizer, train_loader)\n",
    "    val_loss, val_accuracy= evaluate(model, val_loader)\n",
    "\n",
    "    print(\"[Epoch: %d] val loss : %5.5f | val accuracy : %5.2f\" % (e, val_loss, val_accuracy))\n",
    "\n",
    "    # 검증 오차가 가장 적은 최적의 모델을 저장\n",
    "    if not best_val_loss or val_loss < best_val_loss:\n",
    "        best_val_loss = val_loss\n",
    "        best_model = model\n",
    "        "
   ]
  },
  {
   "cell_type": "code",
   "execution_count": 52,
   "id": "2dd89d73",
   "metadata": {},
   "outputs": [],
   "source": [
    "def predict(model, test_iter):\n",
    "    \"\"\"학습된 모델로 정답 파일 예측\"\"\"\n",
    "    model.eval()\n",
    "    preds = []\n",
    "    pred = []\n",
    "    for batch in test_iter:\n",
    "        x, y = batch.title.to(DEVICE), batch.topix_idx.to(DEVICE)\n",
    "        \n",
    "        logit = model(x)\n",
    "        pred=torch.argmax(logit,axis= 1).tolist()\n",
    "        preds.extend(pred)\n",
    "    return preds \n"
   ]
  },
  {
   "cell_type": "code",
   "execution_count": 53,
   "id": "85e6d2e1",
   "metadata": {},
   "outputs": [
    {
     "data": {
      "text/plain": [
       "9131"
      ]
     },
     "execution_count": 53,
     "metadata": {},
     "output_type": "execute_result"
    }
   ],
   "source": [
    "# bset model로 예측.\n",
    "pred = predict(best_model,test_loader)\n",
    "len(pred)"
   ]
  },
  {
   "cell_type": "markdown",
   "id": "4a65a8d0-53f4-404b-91fa-15c162bffca1",
   "metadata": {},
   "source": [
    "## 정답 파일 생성"
   ]
  },
  {
   "cell_type": "code",
   "execution_count": 37,
   "id": "dfb74e8c",
   "metadata": {},
   "outputs": [],
   "source": [
    "submission = pd.read_csv('data/sample_submission.csv')\n",
    "submission.topic_idx = pred\n",
    "submission.to_csv('gru.csv',index= False)"
   ]
  }
 ],
 "metadata": {
  "kernelspec": {
   "display_name": "bdg",
   "language": "python",
   "name": "bdg"
  },
  "language_info": {
   "codemirror_mode": {
    "name": "ipython",
    "version": 3
   },
   "file_extension": ".py",
   "mimetype": "text/x-python",
   "name": "python",
   "nbconvert_exporter": "python",
   "pygments_lexer": "ipython3",
   "version": "3.6.12"
  },
  "toc": {
   "base_numbering": 1,
   "nav_menu": {},
   "number_sections": true,
   "sideBar": true,
   "skip_h1_title": false,
   "title_cell": "Table of Contents",
   "title_sidebar": "Contents",
   "toc_cell": false,
   "toc_position": {},
   "toc_section_display": true,
   "toc_window_display": false
  }
 },
 "nbformat": 4,
 "nbformat_minor": 5
}
