{
  "cells": [
    {
      "cell_type": "markdown",
      "metadata": {
        "id": "5i9JVmgJSmRD"
      },
      "source": [
        "# 뉴스 카테고리 분류 모델\n",
        "- [대회 데이터 다운 링크](https://dacon.io/competitions/official/235747/data)\n",
        "- `private score : 0.67608` , `public score : 0.70427`\n",
        "- 사용 모델 : GRU\n",
        "\n",
        "누구나 이해하기 쉽게 가장 간단하게 설계한 모델입니다.   \n",
        "참고사이트 : [위키 독스](https://wikidocs.net/65348)\n"
      ],
      "id": "5i9JVmgJSmRD"
    },
    {
      "cell_type": "code",
      "execution_count": 3,
      "metadata": {
        "ExecuteTime": {
          "end_time": "2022-01-06T12:07:36.829744Z",
          "start_time": "2022-01-06T12:07:36.756796Z"
        },
        "id": "cspPKiKGSmRE"
      },
      "outputs": [],
      "source": [
        "import pandas as pd\n",
        "\n",
        "train = pd.read_csv('train_data.csv')\n",
        "test = pd.read_csv('test_data.csv')"
      ],
      "id": "cspPKiKGSmRE"
    },
    {
      "cell_type": "code",
      "execution_count": null,
      "metadata": {
        "ExecuteTime": {
          "end_time": "2022-01-06T12:07:37.072071Z",
          "start_time": "2022-01-06T12:07:37.052127Z"
        },
        "id": "QaAdp8D0SmRF",
        "outputId": "33ea3fe2-79fd-4daa-84bc-ff2fd78e79fa"
      },
      "outputs": [
        {
          "data": {
            "text/html": [
              "<div>\n",
              "<style scoped>\n",
              "    .dataframe tbody tr th:only-of-type {\n",
              "        vertical-align: middle;\n",
              "    }\n",
              "\n",
              "    .dataframe tbody tr th {\n",
              "        vertical-align: top;\n",
              "    }\n",
              "\n",
              "    .dataframe thead th {\n",
              "        text-align: right;\n",
              "    }\n",
              "</style>\n",
              "<table border=\"1\" class=\"dataframe\">\n",
              "  <thead>\n",
              "    <tr style=\"text-align: right;\">\n",
              "      <th></th>\n",
              "      <th>index</th>\n",
              "      <th>title</th>\n",
              "      <th>topic_idx</th>\n",
              "    </tr>\n",
              "  </thead>\n",
              "  <tbody>\n",
              "    <tr>\n",
              "      <th>0</th>\n",
              "      <td>0</td>\n",
              "      <td>인천→핀란드 항공기 결항…휴가철 여행객 분통</td>\n",
              "      <td>4</td>\n",
              "    </tr>\n",
              "    <tr>\n",
              "      <th>1</th>\n",
              "      <td>1</td>\n",
              "      <td>실리콘밸리 넘어서겠다…구글 15조원 들여 美전역 거점화</td>\n",
              "      <td>4</td>\n",
              "    </tr>\n",
              "    <tr>\n",
              "      <th>2</th>\n",
              "      <td>2</td>\n",
              "      <td>이란 외무 긴장완화 해결책은 미국이 경제전쟁 멈추는 것</td>\n",
              "      <td>4</td>\n",
              "    </tr>\n",
              "    <tr>\n",
              "      <th>3</th>\n",
              "      <td>3</td>\n",
              "      <td>NYT 클린턴 측근韓기업 특수관계 조명…공과 사 맞물려종합</td>\n",
              "      <td>4</td>\n",
              "    </tr>\n",
              "    <tr>\n",
              "      <th>4</th>\n",
              "      <td>4</td>\n",
              "      <td>시진핑 트럼프에 중미 무역협상 조속 타결 희망</td>\n",
              "      <td>4</td>\n",
              "    </tr>\n",
              "  </tbody>\n",
              "</table>\n",
              "</div>"
            ],
            "text/plain": [
              "   index                             title  topic_idx\n",
              "0      0          인천→핀란드 항공기 결항…휴가철 여행객 분통          4\n",
              "1      1    실리콘밸리 넘어서겠다…구글 15조원 들여 美전역 거점화          4\n",
              "2      2    이란 외무 긴장완화 해결책은 미국이 경제전쟁 멈추는 것          4\n",
              "3      3  NYT 클린턴 측근韓기업 특수관계 조명…공과 사 맞물려종합          4\n",
              "4      4         시진핑 트럼프에 중미 무역협상 조속 타결 희망          4"
            ]
          },
          "execution_count": 3,
          "metadata": {},
          "output_type": "execute_result"
        }
      ],
      "source": [
        "train.head()"
      ],
      "id": "QaAdp8D0SmRF"
    },
    {
      "cell_type": "code",
      "source": [
        "!pip install konlpy"
      ],
      "metadata": {
        "colab": {
          "base_uri": "https://localhost:8080/"
        },
        "id": "83VA2GOKS-s4",
        "outputId": "3fc93b57-fce1-49ce-cef9-d882ddfbe028"
      },
      "id": "83VA2GOKS-s4",
      "execution_count": 5,
      "outputs": [
        {
          "output_type": "stream",
          "name": "stdout",
          "text": [
            "Collecting konlpy\n",
            "  Downloading konlpy-0.6.0-py2.py3-none-any.whl (19.4 MB)\n",
            "\u001b[K     |████████████████████████████████| 19.4 MB 83.0 MB/s \n",
            "\u001b[?25hCollecting JPype1>=0.7.0\n",
            "  Downloading JPype1-1.3.0-cp37-cp37m-manylinux_2_5_x86_64.manylinux1_x86_64.whl (448 kB)\n",
            "\u001b[K     |████████████████████████████████| 448 kB 62.6 MB/s \n",
            "\u001b[?25hRequirement already satisfied: lxml>=4.1.0 in /usr/local/lib/python3.7/dist-packages (from konlpy) (4.2.6)\n",
            "Requirement already satisfied: numpy>=1.6 in /usr/local/lib/python3.7/dist-packages (from konlpy) (1.19.5)\n",
            "Requirement already satisfied: typing-extensions in /usr/local/lib/python3.7/dist-packages (from JPype1>=0.7.0->konlpy) (3.10.0.2)\n",
            "Installing collected packages: JPype1, konlpy\n",
            "Successfully installed JPype1-1.3.0 konlpy-0.6.0\n"
          ]
        }
      ]
    },
    {
      "cell_type": "code",
      "execution_count": 6,
      "metadata": {
        "ExecuteTime": {
          "end_time": "2022-01-06T12:07:37.387624Z",
          "start_time": "2022-01-06T12:07:37.364685Z"
        },
        "id": "X6jSV0MYSmRF"
      },
      "outputs": [],
      "source": [
        "from torchtext.legacy import data \n",
        "from konlpy.tag import Okt\n",
        "\n",
        "tokenizer = Okt()"
      ],
      "id": "X6jSV0MYSmRF"
    },
    {
      "cell_type": "code",
      "execution_count": 7,
      "metadata": {
        "id": "kiuPQjE2SmRG"
      },
      "outputs": [],
      "source": [
        "def get_length(title):\n",
        "    return len(title)\n",
        "\n",
        "train['title_len'] = train['title'].apply(get_length)"
      ],
      "id": "kiuPQjE2SmRG"
    },
    {
      "cell_type": "code",
      "execution_count": 8,
      "metadata": {
        "colab": {
          "base_uri": "https://localhost:8080/",
          "height": 298
        },
        "id": "qm6UFHQJSmRG",
        "outputId": "e0b9580e-cc2d-4229-efbe-0caff07358a8"
      },
      "outputs": [
        {
          "output_type": "execute_result",
          "data": {
            "text/plain": [
              "<matplotlib.axes._subplots.AxesSubplot at 0x7fcae4596550>"
            ]
          },
          "metadata": {},
          "execution_count": 8
        },
        {
          "output_type": "display_data",
          "data": {
            "image/png": "[encoded data removed]",
            "text/plain": [
              "<Figure size 432x288 with 1 Axes>"
            ]
          },
          "metadata": {
            "needs_background": "light"
          }
        }
      ],
      "source": [
        "import seaborn as sns\n",
        "import numpy as np \n",
        "\n",
        "\n",
        "\n",
        "\n",
        "np.median(train['title_len'].to_list())\n",
        "np.max(train['title_len'].to_list())\n",
        "\n",
        "sns.histplot(train['title_len'],bins = 10)\n"
      ],
      "id": "qm6UFHQJSmRG"
    },
    {
      "cell_type": "code",
      "execution_count": 9,
      "metadata": {
        "id": "W9QPl3TuSmRG"
      },
      "outputs": [],
      "source": [
        "# 필드 정의\n",
        "\n",
        "# 실제 사용은 하지 않을 예정\n",
        "INDEX = data.Field(sequential = False,\n",
        "                use_vocab = False)\n",
        "\n",
        "TITLE = data.Field(sequential=True,\n",
        "                  use_vocab=True,\n",
        "                  tokenize=tokenizer.morphs, # 토크나이저로는 Okt 사용.\n",
        "                  lower=True,\n",
        "                  batch_first=True,\n",
        "                  fix_length=44)\n",
        "\n",
        "LABEL = data.Field(sequential=False,\n",
        "                   use_vocab=False,\n",
        "                   is_target=True)"
      ],
      "id": "W9QPl3TuSmRG"
    },
    {
      "cell_type": "markdown",
      "metadata": {
        "id": "pLEhj_M0SmRG"
      },
      "source": [
        "## 데이터셋 만들기"
      ],
      "id": "pLEhj_M0SmRG"
    },
    {
      "cell_type": "code",
      "execution_count": 10,
      "metadata": {
        "id": "qTFs9yzeSmRG"
      },
      "outputs": [],
      "source": [
        "from sklearn.model_selection import StratifiedKFold\n",
        "\n",
        "skf = StratifiedKFold(n_splits = 5, shuffle = True, random_state = 42)\n",
        "\n",
        "for i,(trn_idx,val_idx) in enumerate(skf.split(train['title'],train['topic_idx'])):\n",
        "    trn = train.iloc[trn_idx]\n",
        "    val = train.iloc[val_idx]"
      ],
      "id": "qTFs9yzeSmRG"
    },
    {
      "cell_type": "code",
      "execution_count": 14,
      "metadata": {
        "id": "Y6f1273FSmRH"
      },
      "outputs": [],
      "source": [
        "trn.to_csv('trn.csv',index = False)\n",
        "val.to_csv('val.csv',index = False)"
      ],
      "id": "Y6f1273FSmRH"
    },
    {
      "cell_type": "code",
      "execution_count": 15,
      "metadata": {
        "id": "TyT4U5RhSmRH"
      },
      "outputs": [],
      "source": [
        "test['topic_idx'] = 0\n",
        "test.to_csv('test.csv',index = False)"
      ],
      "id": "TyT4U5RhSmRH"
    },
    {
      "cell_type": "code",
      "execution_count": 16,
      "metadata": {
        "id": "caB-kGavSmRH"
      },
      "outputs": [],
      "source": [
        "from torchtext.legacy.data import TabularDataset\n",
        "\n",
        "train_data, validation_data,test_data =TabularDataset.splits(\n",
        "     path='', train='trn.csv',validation= 'val.csv', test='test.csv', format='csv',\n",
        "        fields=[('index', INDEX), ('title', TITLE), ('topix_idx', LABEL)], skip_header=True)\n"
      ],
      "id": "caB-kGavSmRH"
    },
    {
      "cell_type": "code",
      "execution_count": 17,
      "metadata": {
        "colab": {
          "base_uri": "https://localhost:8080/"
        },
        "id": "oMy8VxtFSmRH",
        "outputId": "f41627ff-8e29-4f06-f27c-d6899703d27e"
      },
      "outputs": [
        {
          "output_type": "stream",
          "name": "stdout",
          "text": [
            "훈련 샘플의 개수 : 36524\n",
            "검증 샘플의 개수 : 9130\n",
            "테스트 샘플의 개수 : 9131\n"
          ]
        }
      ],
      "source": [
        "print('훈련 샘플의 개수 : {}'.format(len(train_data)))\n",
        "print('검증 샘플의 개수 : {}'.format(len(validation_data)))\n",
        "print('테스트 샘플의 개수 : {}'.format(len(test_data)))"
      ],
      "id": "oMy8VxtFSmRH"
    },
    {
      "cell_type": "code",
      "execution_count": 18,
      "metadata": {
        "id": "BpJS2cxcSmRI"
      },
      "outputs": [],
      "source": [
        "TITLE.build_vocab(train_data, min_freq = 2, max_size = 20000)"
      ],
      "id": "BpJS2cxcSmRI"
    },
    {
      "cell_type": "code",
      "execution_count": 19,
      "metadata": {
        "colab": {
          "base_uri": "https://localhost:8080/"
        },
        "id": "Hsj2ifj1SmRI",
        "outputId": "7d3409af-4fda-4893-cf2c-6ca05db62084"
      },
      "outputs": [
        {
          "output_type": "stream",
          "name": "stdout",
          "text": [
            "단어 집합의 크기 : 18587\n"
          ]
        }
      ],
      "source": [
        "print('단어 집합의 크기 : {}'.format(len(TITLE.vocab)))"
      ],
      "id": "Hsj2ifj1SmRI"
    },
    {
      "cell_type": "markdown",
      "metadata": {
        "id": "yd_Ul9tOSmRI"
      },
      "source": [
        "## 데이터 로더 만들기"
      ],
      "id": "yd_Ul9tOSmRI"
    },
    {
      "cell_type": "code",
      "execution_count": 20,
      "metadata": {
        "id": "K78gOLTASmRI"
      },
      "outputs": [],
      "source": [
        "from torchtext.legacy.data import Iterator"
      ],
      "id": "K78gOLTASmRI"
    },
    {
      "cell_type": "code",
      "execution_count": 21,
      "metadata": {
        "id": "C_CSog2cSmRI"
      },
      "outputs": [],
      "source": [
        "# 하이퍼파라미터\n",
        "batch_size = 128\n",
        "lr = 0.001\n",
        "EPOCHS = 20"
      ],
      "id": "C_CSog2cSmRI"
    },
    {
      "cell_type": "code",
      "execution_count": 22,
      "metadata": {
        "id": "RPqYSeMeSmRI"
      },
      "outputs": [],
      "source": [
        "train_loader = Iterator(dataset = train_data, batch_size = batch_size)\n",
        "val_loader = Iterator(dataset = validation_data, batch_size = batch_size)\n",
        "test_loader = Iterator(dataset = test_data, batch_size = batch_size,shuffle = False)"
      ],
      "id": "RPqYSeMeSmRI"
    },
    {
      "cell_type": "code",
      "execution_count": 23,
      "metadata": {
        "colab": {
          "base_uri": "https://localhost:8080/"
        },
        "id": "82jcZ57GSmRJ",
        "outputId": "d1ea60b6-074f-4b9a-d2a9-f2bc187baecd"
      },
      "outputs": [
        {
          "output_type": "stream",
          "name": "stdout",
          "text": [
            "훈련 데이터의 미니 배치 수 : 286\n",
            "검증 데이터의 미니 배치 수 : 72\n",
            "테스트 데이터의 미니 배치 수 : 72\n"
          ]
        }
      ],
      "source": [
        "print('훈련 데이터의 미니 배치 수 : {}'.format(len(train_loader)))\n",
        "print('검증 데이터의 미니 배치 수 : {}'.format(len(val_loader)))\n",
        "print('테스트 데이터의 미니 배치 수 : {}'.format(len(test_loader)))"
      ],
      "id": "82jcZ57GSmRJ"
    },
    {
      "cell_type": "markdown",
      "metadata": {
        "id": "7QD1sHHoSmRJ"
      },
      "source": [
        "## LSTM 모델 구현"
      ],
      "id": "7QD1sHHoSmRJ"
    },
    {
      "cell_type": "code",
      "execution_count": 24,
      "metadata": {
        "id": "RxmCCjhBSmRJ"
      },
      "outputs": [],
      "source": [
        "import os\n",
        "import torch\n",
        "import torch.nn as nn\n",
        "import torch.nn.functional as F\n",
        "from torchtext import data, datasets\n",
        "import random"
      ],
      "id": "RxmCCjhBSmRJ"
    },
    {
      "cell_type": "code",
      "execution_count": 56,
      "metadata": {
        "id": "zzCrEc3ySmRJ"
      },
      "outputs": [],
      "source": [
        "class Net(nn.Module):\n",
        "    def __init__(self, n_layers, hidden_dim, n_vocab, embed_dim, n_classes, dropout_p=0.2):\n",
        "        super(Net, self).__init__()\n",
        "        self.n_layers = n_layers\n",
        "        self.hidden_dim = hidden_dim\n",
        "\n",
        "        self.embed = nn.Embedding(n_vocab, embed_dim)\n",
        "        self.dropout = nn.Dropout(dropout_p)\n",
        "        self.lstm = nn.LSTM(embed_dim, self.hidden_dim,\n",
        "                          num_layers=self.n_layers,\n",
        "                          batch_first=True)\n",
        "        self.out = nn.Linear(self.hidden_dim, n_classes)\n",
        "\n",
        "    def forward(self, x):\n",
        "        x = self.embed(x)\n",
        "        h_0 = self._init_state(batch_size=x.size(0)) # 첫번째 히든 스테이트를 0벡터로 초기화\n",
        "        x, (ho,co) = self.lstm(x)  # GRU의 리턴값은 (배치 크기, 시퀀스 길이, 은닉 상태의 크기)\n",
        "        h_t = x[:,-1,:] # 모든 문장을 거쳐서 나온 가장 마지막에 나온 단어(평점)의 값\n",
        "        self.dropout(h_t)\n",
        "        logit = self.out(h_t)  # (배치 크기, 은닉 상태의 크기) -> (배치 크기, 출력층의 크기)\n",
        "        return logit\n",
        "\n",
        "    def _init_state(self, batch_size=1):\n",
        "        weight = next(self.parameters()).data\n",
        "        return weight.new(self.n_layers, batch_size, self.hidden_dim).zero_()"
      ],
      "id": "zzCrEc3ySmRJ"
    },
    {
      "cell_type": "code",
      "execution_count": 57,
      "metadata": {
        "id": "s96WUVc1SmRJ"
      },
      "outputs": [],
      "source": [
        "def train(model, optimizer, train_iter):\n",
        "    \"\"\"모델 학습\"\"\"\n",
        "    model.train()\n",
        "    for i, batch in enumerate(train_iter):\n",
        "        x, y = batch.title.to(DEVICE), batch.topix_idx.to(DEVICE)\n",
        "        \n",
        "        \n",
        "        optimizer.zero_grad()\n",
        "\n",
        "        logit = model(x)\n",
        "        y= torch.tensor(y,dtype = torch.long,device =DEVICE)\n",
        "\n",
        "        loss = F.cross_entropy(logit,y)\n",
        "        loss.backward()\n",
        "        optimizer.step()"
      ],
      "id": "s96WUVc1SmRJ"
    },
    {
      "cell_type": "code",
      "execution_count": 58,
      "metadata": {
        "id": "C5LUWT7ySmRK"
      },
      "outputs": [],
      "source": [
        "def evaluate(model, val_iter):\n",
        "    \"\"\"검증 데이터셋 평가\"\"\"\n",
        "    model.eval()\n",
        "    batch_cor, total_loss = 0, 0\n",
        "    \n",
        "    for batch in val_iter:\n",
        "        x, y = batch.title.to(DEVICE), batch.topix_idx.to(DEVICE)\n",
        "        y= torch.tensor(y,dtype = torch.long,device =DEVICE)\n",
        "        logit = model(x)\n",
        "        \n",
        "        loss = F.cross_entropy(logit, y)\n",
        "        \n",
        "        total_loss += loss.item()\n",
        "        batch_cor += (logit.max(1)[1] == y.data).sum() \n",
        "        \n",
        "    size = len(val_iter.dataset)\n",
        "    avg_loss = total_loss / size \n",
        "    avg_accuracy = 100.0 * batch_cor / size\n",
        "\n",
        "    \n",
        "    return avg_loss, avg_accuracy"
      ],
      "id": "C5LUWT7ySmRK"
    },
    {
      "cell_type": "code",
      "execution_count": 59,
      "metadata": {
        "colab": {
          "base_uri": "https://localhost:8080/"
        },
        "id": "R5TsNLVPSmRK",
        "outputId": "98c4611d-7f1e-45f9-a29f-c4685d7e3c7f"
      },
      "outputs": [
        {
          "output_type": "stream",
          "name": "stdout",
          "text": [
            "단어 집합의 크기 : 18587\n",
            "클래스의 개수 : 7\n"
          ]
        }
      ],
      "source": [
        "vocab_size = len(TITLE.vocab) \n",
        "n_classes = 7\n",
        "print('단어 집합의 크기 : {}'.format(vocab_size))\n",
        "print('클래스의 개수 : {}'.format(n_classes))"
      ],
      "id": "R5TsNLVPSmRK"
    },
    {
      "cell_type": "code",
      "execution_count": 60,
      "metadata": {
        "id": "Epdgfu1HSmRK"
      },
      "outputs": [],
      "source": [
        "DEVICE = torch.device(\"cuda\" if torch.cuda.is_available() else \"cpu\")\n",
        "model = Net(1, 8, vocab_size , 128, n_classes, 0.2).to(DEVICE)\n",
        "optimizer = torch.optim.AdamW(model.parameters(), lr=lr)"
      ],
      "id": "Epdgfu1HSmRK"
    },
    {
      "cell_type": "code",
      "execution_count": 61,
      "metadata": {
        "scrolled": true,
        "colab": {
          "base_uri": "https://localhost:8080/"
        },
        "id": "zMFHH_pHSmRK",
        "outputId": "2a2242e7-52c9-4d5c-d1e7-e593c5bd8836"
      },
      "outputs": [
        {
          "output_type": "stream",
          "name": "stderr",
          "text": [
            "/usr/local/lib/python3.7/dist-packages/ipykernel_launcher.py:11: UserWarning: To copy construct from a tensor, it is recommended to use sourceTensor.clone().detach() or sourceTensor.clone().detach().requires_grad_(True), rather than torch.tensor(sourceTensor).\n",
            "  # This is added back by InteractiveShellApp.init_path()\n",
            "/usr/local/lib/python3.7/dist-packages/ipykernel_launcher.py:8: UserWarning: To copy construct from a tensor, it is recommended to use sourceTensor.clone().detach() or sourceTensor.clone().detach().requires_grad_(True), rather than torch.tensor(sourceTensor).\n",
            "  \n"
          ]
        },
        {
          "output_type": "stream",
          "name": "stdout",
          "text": [
            "[Epoch: 1] val loss : 0.01507 | val accuracy : 19.18\n",
            "[Epoch: 2] val loss : 0.01334 | val accuracy : 32.48\n",
            "[Epoch: 3] val loss : 0.01112 | val accuracy : 44.11\n",
            "[Epoch: 4] val loss : 0.01006 | val accuracy : 51.87\n",
            "[Epoch: 5] val loss : 0.00947 | val accuracy : 58.63\n",
            "[Epoch: 6] val loss : 0.00859 | val accuracy : 63.38\n",
            "[Epoch: 7] val loss : 0.00818 | val accuracy : 65.52\n",
            "[Epoch: 8] val loss : 0.00800 | val accuracy : 66.86\n",
            "[Epoch: 9] val loss : 0.00790 | val accuracy : 68.78\n",
            "[Epoch: 10] val loss : 0.00776 | val accuracy : 70.27\n",
            "[Epoch: 11] val loss : 0.00787 | val accuracy : 71.16\n",
            "[Epoch: 12] val loss : 0.00755 | val accuracy : 71.76\n",
            "[Epoch: 13] val loss : 0.00762 | val accuracy : 72.26\n",
            "[Epoch: 14] val loss : 0.00772 | val accuracy : 72.29\n",
            "[Epoch: 15] val loss : 0.00799 | val accuracy : 72.73\n",
            "[Epoch: 16] val loss : 0.00815 | val accuracy : 72.43\n",
            "[Epoch: 17] val loss : 0.00817 | val accuracy : 72.79\n",
            "[Epoch: 18] val loss : 0.00820 | val accuracy : 73.01\n",
            "[Epoch: 19] val loss : 0.00855 | val accuracy : 72.71\n",
            "[Epoch: 20] val loss : 0.00874 | val accuracy : 73.09\n"
          ]
        }
      ],
      "source": [
        "best_val_loss = None\n",
        "best_model = []\n",
        "\n",
        "for e in range(1, EPOCHS + 1 ):\n",
        "    train(model, optimizer, train_loader)\n",
        "    val_loss, val_accuracy= evaluate(model, val_loader)\n",
        "\n",
        "    print(\"[Epoch: %d] val loss : %5.5f | val accuracy : %5.2f\" % (e, val_loss, val_accuracy))\n",
        "\n",
        "    # 검증 오차가 가장 적은 최적의 모델을 저장\n",
        "    if not best_val_loss or val_loss < best_val_loss:\n",
        "        best_val_loss = val_loss\n",
        "        best_model = model\n",
        "        "
      ],
      "id": "zMFHH_pHSmRK"
    },
    {
      "cell_type": "code",
      "execution_count": null,
      "metadata": {
        "id": "cw2pKjGxSmRK"
      },
      "outputs": [],
      "source": [
        "def predict(model, test_iter):\n",
        "    \"\"\"학습된 모델로 정답 파일 예측\"\"\"\n",
        "    model.eval()\n",
        "    preds = []\n",
        "    pred = []\n",
        "    for batch in test_iter:\n",
        "        x, y = batch.title.to(DEVICE), batch.topix_idx.to(DEVICE)\n",
        "        \n",
        "        logit = model(x)\n",
        "        pred=torch.argmax(logit,axis= 1).tolist()\n",
        "        preds.extend(pred)\n",
        "    return preds \n"
      ],
      "id": "cw2pKjGxSmRK"
    },
    {
      "cell_type": "code",
      "execution_count": null,
      "metadata": {
        "id": "tofSjJaSSmRL",
        "outputId": "e947c761-fced-4268-80f3-390f17430bc7"
      },
      "outputs": [
        {
          "data": {
            "text/plain": [
              "9131"
            ]
          },
          "execution_count": 53,
          "metadata": {},
          "output_type": "execute_result"
        }
      ],
      "source": [
        "# bset model로 예측.\n",
        "pred = predict(best_model,test_loader)\n",
        "len(pred)"
      ],
      "id": "tofSjJaSSmRL"
    },
    {
      "cell_type": "markdown",
      "metadata": {
        "id": "jQkm0bevSmRL"
      },
      "source": [
        "## 정답 파일 생성"
      ],
      "id": "jQkm0bevSmRL"
    },
    {
      "cell_type": "code",
      "execution_count": null,
      "metadata": {
        "id": "4otWfMMKSmRL"
      },
      "outputs": [],
      "source": [
        "submission = pd.read_csv('data/sample_submission.csv')\n",
        "submission.topic_idx = pred\n",
        "submission.to_csv('gru.csv',index= False)"
      ],
      "id": "4otWfMMKSmRL"
    }
  ],
  "metadata": {
    "kernelspec": {
      "display_name": "Python 3",
      "language": "python",
      "name": "python3"
    },
    "language_info": {
      "codemirror_mode": {
        "name": "ipython",
        "version": 3
      },
      "file_extension": ".py",
      "mimetype": "text/x-python",
      "name": "python",
      "nbconvert_exporter": "python",
      "pygments_lexer": "ipython3",
      "version": "3.8.5"
    },
    "toc": {
      "base_numbering": 1,
      "nav_menu": {},
      "number_sections": true,
      "sideBar": true,
      "skip_h1_title": false,
      "title_cell": "Table of Contents",
      "title_sidebar": "Contents",
      "toc_cell": false,
      "toc_position": {},
      "toc_section_display": true,
      "toc_window_display": false
    },
    "colab": {
      "name": "데이콘_뉴스 카테고리 분류 모델_gru.ipynb",
      "provenance": [],
      "collapsed_sections": []
    }
  },
  "nbformat": 4,
  "nbformat_minor": 5
}